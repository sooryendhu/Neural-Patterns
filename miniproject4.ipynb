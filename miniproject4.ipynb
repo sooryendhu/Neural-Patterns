{
 "cells": [
  {
   "cell_type": "code",
   "execution_count": 2,
   "id": "c07b683f",
   "metadata": {},
   "outputs": [
    {
     "name": "stdout",
     "output_type": "stream",
     "text": [
      "Epoch 1/10\n",
      "1875/1875 [==============================] - 77s 41ms/step - loss: 0.1301 - accuracy: 0.9620 - val_loss: 0.0584 - val_accuracy: 0.9810\n",
      "Epoch 2/10\n",
      "1875/1875 [==============================] - 79s 42ms/step - loss: 0.0466 - accuracy: 0.9860 - val_loss: 0.0516 - val_accuracy: 0.9833\n",
      "Epoch 3/10\n",
      "1875/1875 [==============================] - 75s 40ms/step - loss: 0.0267 - accuracy: 0.9916 - val_loss: 0.0561 - val_accuracy: 0.9835\n",
      "Epoch 4/10\n",
      "1875/1875 [==============================] - 75s 40ms/step - loss: 0.0170 - accuracy: 0.9945 - val_loss: 0.0647 - val_accuracy: 0.9807\n",
      "Epoch 5/10\n",
      "1875/1875 [==============================] - 75s 40ms/step - loss: 0.0101 - accuracy: 0.9967 - val_loss: 0.0587 - val_accuracy: 0.9832\n",
      "Epoch 6/10\n",
      "1875/1875 [==============================] - 75s 40ms/step - loss: 0.0073 - accuracy: 0.9976 - val_loss: 0.0663 - val_accuracy: 0.9822\n",
      "Epoch 7/10\n",
      "1875/1875 [==============================] - 75s 40ms/step - loss: 0.0055 - accuracy: 0.9981 - val_loss: 0.0686 - val_accuracy: 0.9842\n",
      "Epoch 8/10\n",
      "1875/1875 [==============================] - 75s 40ms/step - loss: 0.0034 - accuracy: 0.9991 - val_loss: 0.0746 - val_accuracy: 0.9826\n",
      "Epoch 9/10\n",
      "1875/1875 [==============================] - 75s 40ms/step - loss: 0.0029 - accuracy: 0.9992 - val_loss: 0.0829 - val_accuracy: 0.9818\n",
      "Epoch 10/10\n",
      "1875/1875 [==============================] - 75s 40ms/step - loss: 0.0034 - accuracy: 0.9991 - val_loss: 0.0778 - val_accuracy: 0.9835\n",
      "313/313 - 5s - loss: 0.0778 - accuracy: 0.9835 - 5s/epoch - 17ms/step\n",
      "Test accuracy: 0.9835000038146973\n"
     ]
    }
   ],
   "source": [
    "import tensorflow as tf\n",
    "from tensorflow.keras.datasets import mnist\n",
    "from tensorflow.keras.utils import to_categorical\n",
    "from tensorflow.keras.layers import Input, Conv2D, Concatenate, Flatten, Dense\n",
    "from tensorflow.keras.models import Model\n",
    "\n",
    "# Load the MNIST dataset\n",
    "(X_train, y_train), (X_test, y_test) = mnist.load_data()\n",
    "\n",
    "# Preprocess the data\n",
    "X_train = X_train.reshape(X_train.shape[0], 28, 28, 1).astype('float32') / 255.0\n",
    "X_test = X_test.reshape(X_test.shape[0], 28, 28, 1).astype('float32') / 255.0\n",
    "y_train = to_categorical(y_train)\n",
    "y_test = to_categorical(y_test)\n",
    "\n",
    "# Define input shape\n",
    "input_shape = (28, 28, 1)\n",
    "\n",
    "# Define input layer\n",
    "inputs = Input(shape=input_shape)\n",
    "\n",
    "# Define parallel branches\n",
    "branch1 = Conv2D(filters=32, kernel_size=3, dilation_rate=1, padding='same', activation='relu')(inputs)\n",
    "branch2 = Conv2D(filters=32, kernel_size=3, dilation_rate=2, padding='same', activation='relu')(inputs)\n",
    "branch3 = Conv2D(filters=32, kernel_size=3, dilation_rate=4, padding='same', activation='relu')(inputs)\n",
    "\n",
    "# Concatenate the parallel branches\n",
    "concat = Concatenate()([branch1, branch2, branch3])\n",
    "\n",
    "# Flatten the concatenated features\n",
    "flatten = Flatten()(concat)\n",
    "\n",
    "# Add a dense layer for classification\n",
    "outputs = Dense(units=10, activation='softmax')(flatten)\n",
    "\n",
    "# Define the model\n",
    "model = Model(inputs=inputs, outputs=outputs)\n",
    "\n",
    "# Compile the model\n",
    "model.compile(optimizer='adam', loss='categorical_crossentropy', metrics=['accuracy'])\n",
    "\n",
    "# Train the model\n",
    "history = model.fit(X_train, y_train, epochs=10, batch_size=32, validation_data=(X_test, y_test))\n",
    "\n",
    "# Evaluate the model on test data\n",
    "test_loss, test_acc = model.evaluate(X_test, y_test, verbose=2)\n",
    "print('Test accuracy:', test_acc)\n"
   ]
  },
  {
   "cell_type": "code",
   "execution_count": 13,
   "id": "00daeafa",
   "metadata": {},
   "outputs": [],
   "source": [
    "import numpy as np\n",
    "\n",
    "num_images = 5\n",
    "random_indices = np.random.randint(0, len(X_test), num_images)\n",
    "images = X_test[random_indices]\n",
    "labels = y_test[random_indices]"
   ]
  },
  {
   "cell_type": "code",
   "execution_count": 14,
   "id": "d349d760",
   "metadata": {},
   "outputs": [
    {
     "name": "stdout",
     "output_type": "stream",
     "text": [
      "1/1 [==============================] - 0s 167ms/step\n"
     ]
    }
   ],
   "source": [
    "predictions = model.predict(images)\n",
    "predicted_labels = np.argmax(predictions, axis=1)"
   ]
  },
  {
   "cell_type": "code",
   "execution_count": 15,
   "id": "0df63b33",
   "metadata": {},
   "outputs": [
    {
     "data": {
      "image/png": "[encoded data removed]",
      "text/plain": [
       "<Figure size 1080x216 with 5 Axes>"
      ]
     },
     "metadata": {
      "needs_background": "light"
     },
     "output_type": "display_data"
    }
   ],
   "source": [
    "import matplotlib.pyplot as plt\n",
    "fig, axes = plt.subplots(1, num_images, figsize=(15, 3))\n",
    "\n",
    "for i in range(num_images):\n",
    "    axes[i].imshow(images[i].reshape(28, 28), cmap='gray')\n",
    "    axes[i].set_title(f'True: {np.argmax(labels[i])}, Predicted: {predicted_labels[i]}')\n",
    "    axes[i].axis('off')\n",
    "\n",
    "plt.show()"
   ]
  },
  {
   "cell_type": "code",
   "execution_count": 6,
   "id": "b92e9214",
   "metadata": {},
   "outputs": [
    {
     "name": "stdout",
     "output_type": "stream",
     "text": [
      "Model: \"model_1\"\n",
      "__________________________________________________________________________________________________\n",
      " Layer (type)                   Output Shape         Param #     Connected to                     \n",
      "==================================================================================================\n",
      " input_2 (InputLayer)           [(None, 28, 28, 1)]  0           []                               \n",
      "                                                                                                  \n",
      " conv2d_3 (Conv2D)              (None, 28, 28, 32)   320         ['input_2[0][0]']                \n",
      "                                                                                                  \n",
      " conv2d_4 (Conv2D)              (None, 28, 28, 32)   320         ['input_2[0][0]']                \n",
      "                                                                                                  \n",
      " conv2d_5 (Conv2D)              (None, 28, 28, 32)   320         ['input_2[0][0]']                \n",
      "                                                                                                  \n",
      " concatenate_1 (Concatenate)    (None, 28, 28, 96)   0           ['conv2d_3[0][0]',               \n",
      "                                                                  'conv2d_4[0][0]',               \n",
      "                                                                  'conv2d_5[0][0]']               \n",
      "                                                                                                  \n",
      " flatten_1 (Flatten)            (None, 75264)        0           ['concatenate_1[0][0]']          \n",
      "                                                                                                  \n",
      " dense_1 (Dense)                (None, 10)           752650      ['flatten_1[0][0]']              \n",
      "                                                                                                  \n",
      "==================================================================================================\n",
      "Total params: 753,610\n",
      "Trainable params: 753,610\n",
      "Non-trainable params: 0\n",
      "__________________________________________________________________________________________________\n"
     ]
    }
   ],
   "source": [
    "model.summary()"
   ]
  },
  {
   "cell_type": "code",
   "execution_count": 7,
   "id": "340c0e6b",
   "metadata": {},
   "outputs": [],
   "source": [
    "model.save(\"model4.h5\")"
   ]
  },
  {
   "cell_type": "code",
   "execution_count": 8,
   "id": "51850888",
   "metadata": {},
   "outputs": [],
   "source": [
    "from keras import applications\n",
    "import onnx\n",
    "from tensorflow.python.keras.models import load_model"
   ]
  },
  {
   "cell_type": "code",
   "execution_count": 9,
   "id": "145cb8b8",
   "metadata": {},
   "outputs": [
    {
     "name": "stderr",
     "output_type": "stream",
     "text": [
      "WARNING:absl:Found untraced functions such as _jit_compiled_convolution_op, _jit_compiled_convolution_op, _jit_compiled_convolution_op while saving (showing 3 of 3). These functions will not be directly callable after loading.\n"
     ]
    },
    {
     "name": "stdout",
     "output_type": "stream",
     "text": [
      "INFO:tensorflow:Assets written to: tmp_model\\assets\n"
     ]
    },
    {
     "name": "stderr",
     "output_type": "stream",
     "text": [
      "INFO:tensorflow:Assets written to: tmp_model\\assets\n"
     ]
    }
   ],
   "source": [
    "import tensorflow as tf\n",
    "model = tf.keras.models.load_model(\"model4.h5\")\n",
    "tf.saved_model.save(model, \"tmp_model\")"
   ]
  },
  {
   "cell_type": "code",
   "execution_count": 10,
   "id": "37253d05",
   "metadata": {},
   "outputs": [
    {
     "name": "stderr",
     "output_type": "stream",
     "text": [
      "2023-06-14 14:55:30.948420: W tensorflow/stream_executor/platform/default/dso_loader.cc:64] Could not load dynamic library 'cudart64_110.dll'; dlerror: cudart64_110.dll not found\n",
      "2023-06-14 14:55:30.948460: I tensorflow/stream_executor/cuda/cudart_stub.cc:29] Ignore above cudart dlerror if you do not have a GPU set up on your machine.\n",
      "2023-06-14 14:55:35.774270: W tensorflow/stream_executor/platform/default/dso_loader.cc:64] Could not load dynamic library 'cudart64_110.dll'; dlerror: cudart64_110.dll not found\n",
      "2023-06-14 14:55:35.775335: W tensorflow/stream_executor/platform/default/dso_loader.cc:64] Could not load dynamic library 'cublas64_11.dll'; dlerror: cublas64_11.dll not found\n",
      "2023-06-14 14:55:35.776475: W tensorflow/stream_executor/platform/default/dso_loader.cc:64] Could not load dynamic library 'cublasLt64_11.dll'; dlerror: cublasLt64_11.dll not found\n",
      "2023-06-14 14:55:35.777523: W tensorflow/stream_executor/platform/default/dso_loader.cc:64] Could not load dynamic library 'cufft64_10.dll'; dlerror: cufft64_10.dll not found\n",
      "2023-06-14 14:55:35.778332: W tensorflow/stream_executor/platform/default/dso_loader.cc:64] Could not load dynamic library 'curand64_10.dll'; dlerror: curand64_10.dll not found\n",
      "2023-06-14 14:55:35.779127: W tensorflow/stream_executor/platform/default/dso_loader.cc:64] Could not load dynamic library 'cusolver64_11.dll'; dlerror: cusolver64_11.dll not found\n",
      "2023-06-14 14:55:35.779909: W tensorflow/stream_executor/platform/default/dso_loader.cc:64] Could not load dynamic library 'cusparse64_11.dll'; dlerror: cusparse64_11.dll not found\n",
      "2023-06-14 14:55:35.780687: W tensorflow/stream_executor/platform/default/dso_loader.cc:64] Could not load dynamic library 'cudnn64_8.dll'; dlerror: cudnn64_8.dll not found\n",
      "2023-06-14 14:55:35.780722: W tensorflow/core/common_runtime/gpu/gpu_device.cc:1850] Cannot dlopen some GPU libraries. Please make sure the missing libraries mentioned above are installed properly if you would like to use GPU. Follow the guide at https://www.tensorflow.org/install/gpu for how to download and setup the required libraries for your platform.\n",
      "Skipping registering GPU devices...\n",
      "2023-06-14 14:55:35.781173: I tensorflow/core/platform/cpu_feature_guard.cc:193] This TensorFlow binary is optimized with oneAPI Deep Neural Network Library (oneDNN) to use the following CPU instructions in performance-critical operations:  AVX AVX2\n",
      "To enable them in other operations, rebuild TensorFlow with the appropriate compiler flags.\n",
      "D:\\project\\lib\\runpy.py:127: RuntimeWarning: 'tf2onnx.convert' found in sys.modules after import of package 'tf2onnx', but prior to execution of 'tf2onnx.convert'; this may result in unpredictable behaviour\n",
      "  warn(RuntimeWarning(msg))\n",
      "2023-06-14 14:55:35,782 - WARNING - '--tag' not specified for saved_model. Using --tag serve\n",
      "2023-06-14 14:55:36,148 - INFO - Signatures found in model: [serving_default].\n",
      "2023-06-14 14:55:36,148 - WARNING - '--signature_def' not specified, using first signature: serving_default\n",
      "2023-06-14 14:55:36,148 - INFO - Output names: ['dense_1']\n",
      "2023-06-14 14:55:36.174629: I tensorflow/core/grappler/devices.cc:66] Number of eligible GPUs (core count >= 8, compute capability >= 0.0): 1\n",
      "2023-06-14 14:55:36.175365: I tensorflow/core/grappler/clusters/single_machine.cc:358] Starting new session\n",
      "2023-06-14 14:55:36.181732: W tensorflow/core/common_runtime/gpu/gpu_device.cc:1850] Cannot dlopen some GPU libraries. Please make sure the missing libraries mentioned above are installed properly if you would like to use GPU. Follow the guide at https://www.tensorflow.org/install/gpu for how to download and setup the required libraries for your platform.\n",
      "Skipping registering GPU devices...\n",
      "WARNING:tensorflow:From D:\\project\\lib\\site-packages\\tf2onnx\\tf_loader.py:711: extract_sub_graph (from tensorflow.python.framework.graph_util_impl) is deprecated and will be removed in a future version.\n",
      "Instructions for updating:\n",
      "Use `tf.compat.v1.graph_util.extract_sub_graph`\n",
      "2023-06-14 14:55:36,849 - WARNING - From D:\\project\\lib\\site-packages\\tf2onnx\\tf_loader.py:711: extract_sub_graph (from tensorflow.python.framework.graph_util_impl) is deprecated and will be removed in a future version.\n",
      "Instructions for updating:\n",
      "Use `tf.compat.v1.graph_util.extract_sub_graph`\n",
      "2023-06-14 14:55:36.864119: I tensorflow/core/grappler/devices.cc:66] Number of eligible GPUs (core count >= 8, compute capability >= 0.0): 1\n",
      "2023-06-14 14:55:36.864296: I tensorflow/core/grappler/clusters/single_machine.cc:358] Starting new session\n",
      "2023-06-14 14:55:36.865940: W tensorflow/core/common_runtime/gpu/gpu_device.cc:1850] Cannot dlopen some GPU libraries. Please make sure the missing libraries mentioned above are installed properly if you would like to use GPU. Follow the guide at https://www.tensorflow.org/install/gpu for how to download and setup the required libraries for your platform.\n",
      "Skipping registering GPU devices...\n",
      "2023-06-14 14:55:36,916 - INFO - Using tensorflow=2.9.1, onnx=1.12.0, tf2onnx=1.12.0/a58786\n",
      "2023-06-14 14:55:36,916 - INFO - Using opset <onnx, 13>\n",
      "2023-06-14 14:55:37,086 - INFO - Computed 0 values for constant folding\n",
      "2023-06-14 14:55:37,271 - INFO - Optimizing ONNX model\n",
      "2023-06-14 14:55:37,389 - INFO - After optimization: Cast -1 (1->0), Identity -5 (5->0), Reshape +1 (1->2), Transpose -5 (6->1)\n",
      "2023-06-14 14:55:37,389 - INFO - \n",
      "2023-06-14 14:55:37,389 - INFO - Successfully converted TensorFlow model tmp_model to ONNX\n",
      "2023-06-14 14:55:37,389 - INFO - Model inputs: ['input_2']\n",
      "2023-06-14 14:55:37,389 - INFO - Model outputs: ['dense_1']\n",
      "2023-06-14 14:55:37,389 - INFO - ONNX model is saved at model4.onnx\n"
     ]
    }
   ],
   "source": [
    "!python -m tf2onnx.convert --saved-model tmp_model --output \"model4.onnx\""
   ]
  },
  {
   "cell_type": "code",
   "execution_count": 11,
   "id": "9ba284db",
   "metadata": {},
   "outputs": [],
   "source": [
    "import netron"
   ]
  },
  {
   "cell_type": "code",
   "execution_count": 12,
   "id": "747fc437",
   "metadata": {},
   "outputs": [
    {
     "name": "stdout",
     "output_type": "stream",
     "text": [
      "Serving 'model4.onnx' at http://localhost:8080\n"
     ]
    },
    {
     "data": {
      "text/plain": [
       "('localhost', 8080)"
      ]
     },
     "execution_count": 12,
     "metadata": {},
     "output_type": "execute_result"
    }
   ],
   "source": [
    "netron.start(\"model4.onnx\")"
   ]
  },
  {
   "cell_type": "code",
   "execution_count": null,
   "id": "042ef7ad",
   "metadata": {},
   "outputs": [],
   "source": []
  }
 ],
 "metadata": {
  "kernelspec": {
   "display_name": "Python 3",
   "language": "python",
   "name": "python3"
  }
 },
 "nbformat": 4,
 "nbformat_minor": 5
}
